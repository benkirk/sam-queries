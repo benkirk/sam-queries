{
 "cells": [
  {
   "cell_type": "code",
   "execution_count": null,
   "id": "54d6811a-534d-4a81-a6ee-2234814c62cb",
   "metadata": {},
   "outputs": [],
   "source": [
    "from sam_models import (\n",
    "    Base, User, UserAlias, EmailAddress, AcademicStatus,\n",
    "    Project, ProjectDirectory, Account, AccountUser,\n",
    "    Allocation, AllocationTransaction, AllocationType,\n",
    "    AdhocGroup, Institution, Organization, Facility, Panel,\n",
    "    Resource, ResourceType, UserInstitution,\n",
    "    QueryHelpers\n",
    ")\n",
    "from sam_orm_queries import create_sam_engine, get_session, find_user_by_username\n",
    "\n",
    "engine, SessionLocal = create_sam_engine()\n"
   ]
  },
  {
   "cell_type": "code",
   "execution_count": null,
   "id": "7fdcfd1c-4be5-4f2b-9af2-6c2d000a7233",
   "metadata": {},
   "outputs": [],
   "source": [
    "with get_session(SessionLocal) as session:\n",
    "    # Find a user\n",
    "    user = find_user_by_username(session, 'benkirk')\n",
    "    if user:\n",
    "        print(f\"Found user: {user.full_name}\")\n",
    "        print(f\"Primary GID: {user.primary_gid}\")\n",
    "        print(f\"Primary email: {user.primary_email}\")\n",
    "        print(f\"All emails: {', '.join(user.all_emails)}\")\n",
    "\n",
    "        # Get detailed email info\n",
    "        print(\"\\nDetailed email information:\")\n",
    "        for email_info in user.get_emails_detailed():\n",
    "            primary_marker = \" (PRIMARY)\" if email_info['is_primary'] else \"\"\n",
    "            active_marker = \"\" if email_info['active'] else \" (INACTIVE)\"\n",
    "            print(f\"  - {email_info['email']}{primary_marker}{active_marker}\")\n",
    "\n",
    "        # Find projects\n",
    "        for p in user.all_projects:\n",
    "            label = \"\" if p.active else \"** INACTIVE **\"\n",
    "            print(p,label)\n"
   ]
  },
  {
   "cell_type": "code",
   "execution_count": null,
   "id": "a9d27f59-ad14-463e-86ab-e71472da6f69",
   "metadata": {},
   "outputs": [],
   "source": []
  }
 ],
 "metadata": {
  "kernelspec": {
   "display_name": "SAM-sql",
   "language": "python",
   "name": "sam-sql"
  },
  "language_info": {
   "codemirror_mode": {
    "name": "ipython",
    "version": 3
   },
   "file_extension": ".py",
   "mimetype": "text/x-python",
   "name": "python",
   "nbconvert_exporter": "python",
   "pygments_lexer": "ipython3",
   "version": "3.14.0"
  }
 },
 "nbformat": 4,
 "nbformat_minor": 5
}
