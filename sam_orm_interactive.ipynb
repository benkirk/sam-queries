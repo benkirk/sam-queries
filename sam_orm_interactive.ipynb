{
 "cells": [
  {
   "cell_type": "code",
   "execution_count": null,
   "id": "54d6811a-534d-4a81-a6ee-2234814c62cb",
   "metadata": {},
   "outputs": [],
   "source": [
    "from sam_models import *\n",
    "from sam_orm_queries import create_sam_engine, get_session, find_user_by_username, get_project_with_full_details\n",
    "\n",
    "engine, SessionLocal = create_sam_engine()"
   ]
  },
  {
   "cell_type": "code",
   "execution_count": null,
   "id": "7fdcfd1c-4be5-4f2b-9af2-6c2d000a7233",
   "metadata": {},
   "outputs": [],
   "source": [
    "with get_session(SessionLocal) as session:\n",
    "    # Find a user\n",
    "    user = find_user_by_username(session, 'benkirk')\n",
    "    if user:\n",
    "        print(f\"Found user: {user.full_name}\")\n",
    "        print(f\"Primary GID: {user.primary_gid}\")\n",
    "        print(f\"Primary email: {user.primary_email}\")\n",
    "        print(f\"All emails: {', '.join(user.all_emails)}\")\n",
    "\n",
    "        # Get detailed email info\n",
    "        print(\"Detailed email information:\")\n",
    "        for email_info in user.get_emails_detailed():\n",
    "            primary_marker = \" (PRIMARY)\" if email_info['is_primary'] else \"\"\n",
    "            active_marker = \"\" if email_info['active'] else \" (INACTIVE)\"\n",
    "            print(f\"  - {email_info['email']}{primary_marker}{active_marker}\")\n",
    "\n",
    "        # Find projects\n",
    "        print(\"Detailed project information:\")\n",
    "        for p in user.all_projects:\n",
    "            label = \"\" if p.active else \"** INACTIVE **\"\n",
    "            print(f\"  {p.projcode}, {p.title}{label}\")\n"
   ]
  },
  {
   "cell_type": "code",
   "execution_count": null,
   "id": "30fa299e-c107-4b31-a9e7-141c6296af60",
   "metadata": {},
   "outputs": [],
   "source": [
    "def project_details(project):\n",
    "    if project:\n",
    "        print(f\"\\n--- Project Details ---\")\n",
    "        print(f\"Project: {project.projcode}\")\n",
    "        print(f\"Title: {project.title}\")\n",
    "        print(f\"Lead: {project.lead.full_name}\")\n",
    "        for d in project.directories:\n",
    "            label = \"\" if d.is_currently_active else \" ** INACTIVE **\"\n",
    "            print(f\"  Directory: {d.directory_name}{label}\")\n",
    "        # Show allocations by resource\n",
    "        print(f\"Allocations by resource:\")\n",
    "        allocs_by_resource = project.get_all_allocations_by_resource()\n",
    "        for resource_name, alloc in allocs_by_resource.items():\n",
    "            print(f\"  {resource_name:12}: {alloc.amount:,.2f} (expires {alloc.end_date})\")\n",
    "\n",
    "        # Show users on project\n",
    "        print(f\"Users:\")\n",
    "        for user in project.users:\n",
    "            print(f\"  {user.username:12} {user.display_name:30} <{user.primary_email}>\")\n"
   ]
  },
  {
   "cell_type": "code",
   "execution_count": null,
   "id": "a9d27f59-ad14-463e-86ab-e71472da6f69",
   "metadata": {},
   "outputs": [],
   "source": [
    "with get_session(SessionLocal) as session:\n",
    "    # Find a project\n",
    "    project = get_project_with_full_details(session, 'SCSG0001')\n",
    "    project_details(project)"
   ]
  },
  {
   "cell_type": "code",
   "execution_count": null,
   "id": "206decbd-60c3-4aa2-adcf-bf0bf01d031d",
   "metadata": {},
   "outputs": [],
   "source": [
    "from sam_orm_queries import get_projects_expiring_soon\n",
    "with get_session(SessionLocal) as session:\n",
    "    # Get expiring projects (simple) - all resources\n",
    "    print(\"\\n--- Projects Expiring Soon (30 days, all resources) ---\")\n",
    "    expiring = get_projects_expiring_soon(session, days=30)\n",
    "    print(f\"Found {len(expiring)} allocations expiring\")\n",
    "    for proj, alloc, res_name, days in expiring:\n",
    "        print(f\"  {proj.projcode} / {days} days remaining / ({res_name})\")\n",
    " \n",
    "\n"
   ]
  },
  {
   "cell_type": "code",
   "execution_count": null,
   "id": "84e8d298-6703-4dff-88b3-51634e7be24b",
   "metadata": {},
   "outputs": [],
   "source": [
    "from sam_models_jobs_queries import *\n",
    "\n",
    "projcode='SCSG0001'\n",
    "start_date = datetime(2024, 1, 1)\n",
    "end_date = datetime(2024, 12, 31)\n",
    "resource='Casper'\n",
    "\n",
    "with get_session(SessionLocal) as session:\n",
    "\n",
    "    top_users = get_user_usage_on_project(        \n",
    "                    session, projcode,\n",
    "                    start_date,\n",
    "                    end_date,\n",
    "                    limit=5)\n",
    "    for user in top_users:\n",
    "        print(f\"{user['username']:12}: {user['charges']:.2f}\")\n",
    "                \n",
    "    usage = get_project_usage_summary(session,\n",
    "                                      projcode,\n",
    "                                      start_date,\n",
    "                                      end_date,\n",
    "                                      resource)\n",
    "    #print(usage)\n",
    "    print(f\"Project {projcode} ran {usage['total_jobs']} and used {usage['total_core_hours']:2f} core hours\")\n",
    "\n",
    "    trend = get_daily_usage_trend(session,\n",
    "                                  projcode,\n",
    "                                  start_date,\n",
    "                                  end_date,\n",
    "                                  resource)\n",
    "    for day in trend:\n",
    "        print(f\"{day['date']}: {day['jobs']} jobs, {day['charges']} charges\")"
   ]
  },
  {
   "cell_type": "code",
   "execution_count": null,
   "id": "9df61d38-997d-4de4-bedb-ecfa7f30dedd",
   "metadata": {},
   "outputs": [],
   "source": []
  }
 ],
 "metadata": {
  "kernelspec": {
   "display_name": "SAM-sql",
   "language": "python",
   "name": "sam-sql"
  },
  "language_info": {
   "codemirror_mode": {
    "name": "ipython",
    "version": 3
   },
   "file_extension": ".py",
   "mimetype": "text/x-python",
   "name": "python",
   "nbconvert_exporter": "python",
   "pygments_lexer": "ipython3",
   "version": "3.14.0"
  }
 },
 "nbformat": 4,
 "nbformat_minor": 5
}
